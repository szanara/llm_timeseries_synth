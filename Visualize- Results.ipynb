{
 "cells": [
  {
   "cell_type": "code",
   "execution_count": 1,
   "id": "6abb5a3f-4e19-441c-819e-b7b4dc6479d1",
   "metadata": {},
   "outputs": [],
   "source": [
    "path_root = '/home/cz/'"
   ]
  },
  {
   "cell_type": "code",
   "execution_count": 2,
   "id": "6756fae3-c5f9-49f9-b122-eb79ed3477f2",
   "metadata": {},
   "outputs": [],
   "source": [
    "#dataset= 'MHEALTH.npz'"
   ]
  },
  {
   "cell_type": "code",
   "execution_count": 3,
   "id": "fbc2b5a2-2df7-4103-8605-b1aa41e4726f",
   "metadata": {},
   "outputs": [],
   "source": [
    "dataset='UTD-MHAD2_1s.npz'"
   ]
  },
  {
   "cell_type": "code",
   "execution_count": 4,
   "id": "3f4b6046-8a30-470a-896d-69ec2afe53a2",
   "metadata": {},
   "outputs": [],
   "source": [
    "path_tstr =path_root+f'mds3/COHERE/eval/results/tstr/{dataset}'"
   ]
  },
  {
   "cell_type": "code",
   "execution_count": 5,
   "id": "5280a414-8bf8-4ae8-b900-53ec96b4543c",
   "metadata": {},
   "outputs": [],
   "source": [
    "path_trts  =path_root+f'mds3/COHERE/eval/results/trts/{dataset}'"
   ]
  },
  {
   "cell_type": "code",
   "execution_count": 6,
   "id": "7cb642b0-0175-4e48-b32b-613d5150c483",
   "metadata": {},
   "outputs": [],
   "source": [
    "import numpy as np \n",
    "import os\n",
    "import pandas as pd"
   ]
  },
  {
   "cell_type": "code",
   "execution_count": 7,
   "id": "59fa5b3a-92af-44e9-8256-35cf216e075c",
   "metadata": {},
   "outputs": [],
   "source": [
    "tstr = np.load(path_tstr+'/results.npy', allow_pickle=True).item()"
   ]
  },
  {
   "cell_type": "code",
   "execution_count": 8,
   "id": "347650d0-71fe-42f9-9f5a-432ed8d2ff93",
   "metadata": {},
   "outputs": [],
   "source": [
    "trts = np.load(path_trts+'/results.npy', allow_pickle=True).item()"
   ]
  },
  {
   "cell_type": "code",
   "execution_count": 9,
   "id": "0d060a1a-06ae-4388-81ad-fa502d7ebb6b",
   "metadata": {},
   "outputs": [
    {
     "name": "stdout",
     "output_type": "stream",
     "text": [
      "trts\n",
      "    acc  recall     f1  std_acc  std_raecall  std_f1\n",
      "0  37.4   35.88  31.71     3.42         3.61    4.53\n",
      "tstr\n",
      "     acc  recall     f1  std_acc  std_raecall  std_f1\n",
      "0  31.04   28.41  20.72     4.07         3.04    3.02\n"
     ]
    }
   ],
   "source": [
    "for key in trts:\n",
    "        trts[key] = list(trts[key])\n",
    "trts_df = pd.DataFrame(dict(trts)).mul(100).round(2)\n",
    "for key in tstr:\n",
    "        tstr[key] = list(tstr[key])\n",
    "tstr_df = pd.DataFrame(dict(tstr)).mul(100).round(2)\n",
    "print('trts')\n",
    "print(trts_df)\n",
    "print('tstr')\n",
    "print(tstr_df)"
   ]
  },
  {
   "cell_type": "code",
   "execution_count": 10,
   "id": "8806a2b8-e029-4f71-be6f-d9b74154fe4f",
   "metadata": {},
   "outputs": [
    {
     "name": "stdout",
     "output_type": "stream",
     "text": [
      "aug: 10\n",
      "     acc  recall     f1  std_acc  std_raecall  std_f1\n",
      "0  68.75   62.52  62.38     2.36         3.66    2.83\n",
      "aug: 15\n",
      "     acc  recall     f1  std_acc  std_raecall  std_f1\n",
      "0  69.48   63.21  62.89      3.3         4.91    4.42\n",
      "aug: 30\n",
      "     acc  recall    f1  std_acc  std_raecall  std_f1\n",
      "0  69.17   64.36  63.5     3.49         4.62    4.47\n"
     ]
    }
   ],
   "source": [
    "for i in [10,15,30]:\n",
    "    path_aug = path_root+f'mds3/COHERE/eval/results/aug/{i}/{dataset}'\n",
    "    aug = np.load(path_aug+'/results.npy', allow_pickle=True).item()\n",
    "    print('aug:',i)\n",
    "    for key in aug:\n",
    "        aug[key] = list(aug[key])\n",
    "    aug_df = pd.DataFrame(dict(aug)).mul(100).round(2)\n",
    "    print(aug_df)"
   ]
  }
 ],
 "metadata": {
  "kernelspec": {
   "display_name": "Python 3 (ipykernel)",
   "language": "python",
   "name": "python3"
  },
  "language_info": {
   "codemirror_mode": {
    "name": "ipython",
    "version": 3
   },
   "file_extension": ".py",
   "mimetype": "text/x-python",
   "name": "python",
   "nbconvert_exporter": "python",
   "pygments_lexer": "ipython3",
   "version": "3.11.9"
  }
 },
 "nbformat": 4,
 "nbformat_minor": 5
}
